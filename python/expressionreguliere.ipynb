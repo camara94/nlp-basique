{
 "cells": [
  {
   "cell_type": "markdown",
   "id": "0b91d34f-6b58-4a57-ae1d-fa89d31b1f3a",
   "metadata": {},
   "source": [
    "# Les Expressions Régulières\n",
    "  Les patternes pour rechercher des mots dans dans les textes avec les  expressions régulières"
   ]
  },
  {
   "cell_type": "code",
   "execution_count": 1,
   "id": "a0e652b0-d47a-491a-bc82-88ecad3afe69",
   "metadata": {},
   "outputs": [],
   "source": [
    "import re"
   ]
  },
  {
   "cell_type": "code",
   "execution_count": 6,
   "id": "d84fbd62-82d8-44c3-9755-6b22ccafa839",
   "metadata": {},
   "outputs": [],
   "source": [
    "commande = \"Salut, j'ai un problème avec ma commande # 412889912\"\n",
    "\n",
    "commande_2 = \"Ma commande 412889912 a un problème, on m'a changé 50$ quand en ligne ça dit 40$\"\n",
    "\n",
    "commande_3 = \"J'ai un problème avec mon numéro de commande 412889912\""
   ]
  },
  {
   "cell_type": "markdown",
   "id": "b78c39fb-44f8-48df-9dfd-d8bb690c1765",
   "metadata": {
    "tags": []
   },
   "source": [
    "Les patternes pour rechercher des mots dans dans les textes avec les expressions régulières\n",
    "\n",
    "![image](../images/7.png)"
   ]
  },
  {
   "cell_type": "code",
   "execution_count": 48,
   "id": "4c1c5c23-0f8b-488b-bca5-5fb7a9017ae5",
   "metadata": {},
   "outputs": [],
   "source": [
    "reponse_1 = \"Oui, tel: 56352275 email: ldamaro98@gmail.com\"\n",
    "reponse_2 = \"Voici: (+216)-56-352-275, ldamaro98@gmail.com\""
   ]
  },
  {
   "cell_type": "markdown",
   "id": "00fcd065-0a3d-4db5-b030-7e94d6f46492",
   "metadata": {},
   "source": [
    "Les patternes pour rechercher des mots dans dans les textes avec les expressions régulières\n",
    "![image](../images/8.png)"
   ]
  },
  {
   "cell_type": "code",
   "execution_count": 74,
   "id": "0487b2c6-b2a4-466e-96bb-f9bd97920ac6",
   "metadata": {},
   "outputs": [
    {
     "data": {
      "text/plain": [
       "['(+216)-56-352-275']"
      ]
     },
     "execution_count": 74,
     "metadata": {},
     "output_type": "execute_result"
    }
   ],
   "source": [
    "pattern_2 = \"\\(\\+\\d{3}\\)-\\d{2}-\\d{3}-\\d{3}|\\d{8}\"\n",
    "re.findall(pattern_2, reponse_2)"
   ]
  },
  {
   "cell_type": "code",
   "execution_count": 17,
   "id": "cf85ef6a-a22b-4a2c-b61a-875c901c40e1",
   "metadata": {},
   "outputs": [
    {
     "data": {
      "text/plain": [
       "['56352275']"
      ]
     },
     "execution_count": 17,
     "metadata": {},
     "output_type": "execute_result"
    }
   ],
   "source": [
    "pattern_1 = \"\\d{8}\"\n",
    "re.findall(pattern_1, reponse_1)"
   ]
  },
  {
   "cell_type": "code",
   "execution_count": null,
   "id": "24652afc-1a3b-4204-b53e-7782524d3fbc",
   "metadata": {},
   "outputs": [],
   "source": []
  }
 ],
 "metadata": {
  "kernelspec": {
   "display_name": "Python 3",
   "language": "python",
   "name": "python3"
  },
  "language_info": {
   "codemirror_mode": {
    "name": "ipython",
    "version": 3
   },
   "file_extension": ".py",
   "mimetype": "text/x-python",
   "name": "python",
   "nbconvert_exporter": "python",
   "pygments_lexer": "ipython3",
   "version": "3.8.5"
  }
 },
 "nbformat": 4,
 "nbformat_minor": 5
}
