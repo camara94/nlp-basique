{
 "cells": [
  {
   "cell_type": "markdown",
   "id": "0b91d34f-6b58-4a57-ae1d-fa89d31b1f3a",
   "metadata": {},
   "source": [
    "# Les Expressions Régulières\n",
    "  Les patternes pour rechercher des mots dans dans les textes avec les  expressions régulières"
   ]
  },
  {
   "cell_type": "code",
   "execution_count": 1,
   "id": "a0e652b0-d47a-491a-bc82-88ecad3afe69",
   "metadata": {},
   "outputs": [],
   "source": [
    "import re"
   ]
  },
  {
   "cell_type": "code",
   "execution_count": 259,
   "id": "d84fbd62-82d8-44c3-9755-6b22ccafa839",
   "metadata": {},
   "outputs": [],
   "source": [
    "commande = '''\n",
    "            Salut, j'ai un problème avec ma commande # 412889912\n",
    "            Ma commande 412889912 a un problème, on m'a changé 50$ quand en ligne ça dit 40$\n",
    "            J'ai un problème avec mon numéro de commande 412889912\n",
    "        '''"
   ]
  },
  {
   "cell_type": "markdown",
   "id": "b78c39fb-44f8-48df-9dfd-d8bb690c1765",
   "metadata": {
    "tags": []
   },
   "source": [
    "Les patternes pour rechercher des mots dans dans les textes avec les expressions régulières\n",
    "\n",
    "![image](../images/7.png)"
   ]
  },
  {
   "cell_type": "code",
   "execution_count": 48,
   "id": "4c1c5c23-0f8b-488b-bca5-5fb7a9017ae5",
   "metadata": {},
   "outputs": [],
   "source": [
    "reponse_1 = \"Oui, tel: 56352275 email: ldamaro98@gmail.com\"\n",
    "reponse_2 = \"Voici: (+216)-56-352-275, ldamaro98@gmail.com\""
   ]
  },
  {
   "cell_type": "markdown",
   "id": "00fcd065-0a3d-4db5-b030-7e94d6f46492",
   "metadata": {},
   "source": [
    "Les patternes pour rechercher des mots dans dans les textes avec les expressions régulières\n",
    "![image](../images/8.png)"
   ]
  },
  {
   "cell_type": "code",
   "execution_count": 76,
   "id": "0487b2c6-b2a4-466e-96bb-f9bd97920ac6",
   "metadata": {},
   "outputs": [
    {
     "data": {
      "text/plain": [
       "['(+216)-56-352-275']"
      ]
     },
     "execution_count": 76,
     "metadata": {},
     "output_type": "execute_result"
    }
   ],
   "source": [
    "pattern = \"\\(\\+\\d{3}\\)-\\d{2}-\\d{3}-\\d{3}|\\d{8}\"\n",
    "re.findall(pattern, reponse_2)"
   ]
  },
  {
   "cell_type": "code",
   "execution_count": 77,
   "id": "cf85ef6a-a22b-4a2c-b61a-875c901c40e1",
   "metadata": {},
   "outputs": [
    {
     "data": {
      "text/plain": [
       "['56352275']"
      ]
     },
     "execution_count": 77,
     "metadata": {},
     "output_type": "execute_result"
    }
   ],
   "source": [
    "re.findall(pattern, reponse_1)"
   ]
  },
  {
   "cell_type": "code",
   "execution_count": 85,
   "id": "24652afc-1a3b-4204-b53e-7782524d3fbc",
   "metadata": {},
   "outputs": [
    {
     "data": {
      "text/plain": [
       "['ldamaro98@gmail.com']"
      ]
     },
     "execution_count": 85,
     "metadata": {},
     "output_type": "execute_result"
    }
   ],
   "source": [
    "email_pattern = \"\\w*@\\w{2,}\\.\\w{2,}\"\n",
    "re.findall(email_pattern, reponse_1)"
   ]
  },
  {
   "cell_type": "code",
   "execution_count": 331,
   "id": "e174be23-13ef-4d75-bbf5-6fdac66e4080",
   "metadata": {},
   "outputs": [
    {
     "data": {
      "text/plain": [
       "['https://stardevcgroup.com/',\n",
       " 'https://api.stardevcgroup.com:3443/',\n",
       " 'https://api.stardevcgroup.com:3443/api-docs',\n",
       " 'https://stardevcgroup.com',\n",
       " 'http://www.camaratek.com']"
      ]
     },
     "execution_count": 331,
     "metadata": {},
     "output_type": "execute_result"
    }
   ],
   "source": [
    "url_pattern = 'https?:\\/\\/\\w{3}?\\.?\\w{2,}?\\.\\w{2,}[0-9:]*[a-z0-9-/]*'\n",
    "messites ='''\n",
    "    ceci est le site de notre boîte: https://stardevcgroup.com/\n",
    "    ceci est l'API de note site eCommerce en guinée: https://api.stardevcgroup.com:3443/\n",
    "    ceci est la doc de notre API: https://api.stardevcgroup.com:3443/api-docs\n",
    "    ceci est le site des université guinéenne: https://stardevcgroup.com\n",
    "    ceci est mon site person: http://www.camaratek.com\n",
    "'''\n",
    "re.findall(url_pattern, messites)\n"
   ]
  },
  {
   "cell_type": "code",
   "execution_count": 270,
   "id": "c6d93508-082e-42d7-b125-b3f484f6c3ca",
   "metadata": {},
   "outputs": [
    {
     "data": {
      "text/plain": [
       "['412889912', '412889912', '412889912']"
      ]
     },
     "execution_count": 270,
     "metadata": {},
     "output_type": "execute_result"
    }
   ],
   "source": [
    "commande_pattern = \"commande[^\\d]*(\\d*)\"\n",
    "re.findall(commande_pattern, commande)"
   ]
  },
  {
   "cell_type": "code",
   "execution_count": 261,
   "id": "0fd9aca3-6c78-4cf3-bf74-f59500b49869",
   "metadata": {},
   "outputs": [
    {
     "data": {
      "text/plain": [
       "\"\\n            Salut, j'ai un problème avec ma commande # 412889912\\n            Ma commande 412889912 a un problème, on m'a changé 50$ quand en ligne ça dit 40$\\n            J'ai un problème avec mon numéro de commande 412889912\\n        \""
      ]
     },
     "execution_count": 261,
     "metadata": {},
     "output_type": "execute_result"
    }
   ],
   "source": [
    "commande"
   ]
  },
  {
   "cell_type": "code",
   "execution_count": 271,
   "id": "87bcb3ca-f6bd-478c-bcff-51615c163973",
   "metadata": {},
   "outputs": [],
   "source": [
    "import requests as req\n",
    "from bs4 import BeautifulSoup"
   ]
  },
  {
   "cell_type": "code",
   "execution_count": 272,
   "id": "10aaf69c-28d3-4076-8143-12a31c76de07",
   "metadata": {},
   "outputs": [],
   "source": [
    "url = \"https://fr.wikipedia.org/wiki/Elon_Musk\""
   ]
  },
  {
   "cell_type": "code",
   "execution_count": 295,
   "id": "acc4cdf5-7f86-41e5-a9ca-de917545d603",
   "metadata": {},
   "outputs": [],
   "source": [
    "reponse = req.get(url)\n",
    "soup = BeautifulSoup(reponse.text)"
   ]
  },
  {
   "cell_type": "code",
   "execution_count": 325,
   "id": "5522cdd9-c1b1-4da6-84d4-0bd285e981d9",
   "metadata": {},
   "outputs": [],
   "source": [
    "def clean(instr):\n",
    "    import string, re\n",
    "    texte = instr.translate( string.punctuation + '')\n",
    "    return texte.replace('+','')"
   ]
  },
  {
   "cell_type": "code",
   "execution_count": 327,
   "id": "47a087f3-bc1f-4a15-9cd0-42080d5864fa",
   "metadata": {},
   "outputs": [],
   "source": [
    "texte = clean(soup.text)"
   ]
  },
  {
   "cell_type": "code",
   "execution_count": 334,
   "id": "0e0709f6-2752-4040-9cf0-4431bb993d91",
   "metadata": {},
   "outputs": [
    {
     "data": {
      "text/plain": [
       "['https://www.lefigaro.fr/',\n",
       " 'https://twitter.com/elonmusk/status/1470519292651352070',\n",
       " 'https://twitter.com/elonmusk/status/1470519361295335425',\n",
       " 'www.20minutes.fr',\n",
       " 'www.20minutes.fr',\n",
       " 'www.cnbc.com',\n",
       " 'www.bloomberg.com']"
      ]
     },
     "execution_count": 334,
     "metadata": {},
     "output_type": "execute_result"
    }
   ],
   "source": [
    "re.findall(url_pattern+'|\\w{3}?\\.\\w{2,}\\.\\w{2,}', texte)"
   ]
  },
  {
   "cell_type": "code",
   "execution_count": 339,
   "id": "86e4a4ec-9741-4a50-a873-dc7a17e7ba0f",
   "metadata": {},
   "outputs": [
    {
     "data": {
      "text/plain": [
       "[]"
      ]
     },
     "execution_count": 339,
     "metadata": {},
     "output_type": "execute_result"
    }
   ],
   "source": [
    "naissance_pattern = 'Nom'\n",
    "re.findall(email_pattern, texte)"
   ]
  },
  {
   "cell_type": "code",
   "execution_count": 340,
   "id": "252e77b6-18e2-40f1-b292-1345d451dba9",
   "metadata": {},
   "outputs": [],
   "source": [
    "import pandas as pd"
   ]
  },
  {
   "cell_type": "code",
   "execution_count": 341,
   "id": "0ebf9ba9-b325-49ae-bf29-ecc2aecf16c9",
   "metadata": {},
   "outputs": [],
   "source": [
    "list_d = pd.read_html(url)"
   ]
  },
  {
   "cell_type": "code",
   "execution_count": 352,
   "id": "589949ac-c2c6-4253-95e5-f67ac4fde4e7",
   "metadata": {},
   "outputs": [
    {
     "data": {
      "text/html": [
       "<div>\n",
       "<style scoped>\n",
       "    .dataframe tbody tr th:only-of-type {\n",
       "        vertical-align: middle;\n",
       "    }\n",
       "\n",
       "    .dataframe tbody tr th {\n",
       "        vertical-align: top;\n",
       "    }\n",
       "\n",
       "    .dataframe thead th {\n",
       "        text-align: right;\n",
       "    }\n",
       "</style>\n",
       "<table border=\"1\" class=\"dataframe\">\n",
       "  <thead>\n",
       "    <tr style=\"text-align: right;\">\n",
       "      <th></th>\n",
       "      <th>v · mPersonnalité de l'année selon Time Magazine</th>\n",
       "      <th>v · mPersonnalité de l'année selon Time Magazine.1</th>\n",
       "    </tr>\n",
       "  </thead>\n",
       "  <tbody>\n",
       "    <tr>\n",
       "      <th>0</th>\n",
       "      <td>1927-1950</td>\n",
       "      <td>Charles Lindbergh (1927) Walter Chrysler (1928...</td>\n",
       "    </tr>\n",
       "    <tr>\n",
       "      <th>1</th>\n",
       "      <td>1951-1975</td>\n",
       "      <td>Mohammad Mossadegh (1951) Élisabeth II (1952) ...</td>\n",
       "    </tr>\n",
       "    <tr>\n",
       "      <th>2</th>\n",
       "      <td>1976-2000</td>\n",
       "      <td>Jimmy Carter (1976) Anouar el-Sadate (1977) De...</td>\n",
       "    </tr>\n",
       "    <tr>\n",
       "      <th>3</th>\n",
       "      <td>Depuis 2001</td>\n",
       "      <td>Rudy Giuliani (2001) Les whistleblowers (2002)...</td>\n",
       "    </tr>\n",
       "  </tbody>\n",
       "</table>\n",
       "</div>"
      ],
      "text/plain": [
       "  v · mPersonnalité de l'année selon Time Magazine  \\\n",
       "0                                        1927-1950   \n",
       "1                                        1951-1975   \n",
       "2                                        1976-2000   \n",
       "3                                      Depuis 2001   \n",
       "\n",
       "  v · mPersonnalité de l'année selon Time Magazine.1  \n",
       "0  Charles Lindbergh (1927) Walter Chrysler (1928...  \n",
       "1  Mohammad Mossadegh (1951) Élisabeth II (1952) ...  \n",
       "2  Jimmy Carter (1976) Anouar el-Sadate (1977) De...  \n",
       "3  Rudy Giuliani (2001) Les whistleblowers (2002)...  "
      ]
     },
     "execution_count": 352,
     "metadata": {},
     "output_type": "execute_result"
    }
   ],
   "source": [
    "list_d[9]"
   ]
  },
  {
   "cell_type": "code",
   "execution_count": 360,
   "id": "991915fe-239b-4cc7-a66c-de2711715be0",
   "metadata": {},
   "outputs": [],
   "source": [
    "nelson_mandela = '''\n",
    "        Nom de naissance\tRolihlahla Mandela\n",
    "        Date de naissance\t18 juillet 1918\n",
    "        Lieu de naissance\tMvezo (Afrique du Sud)\n",
    "        Date de décès\t5 décembre 2013 (à 95 ans)\n",
    "        Lieu de décès\tJohannesburg (Afrique du Sud)\n",
    "        Nature du décès\tInfection respiratoire\n",
    "        Nationalité\tSud-Africain\n",
    "        Parti politique\tParti communiste sud-africain (SACP)1,2,3\n",
    "        Congrès national africain (ANC) (depuis 1943)\n",
    "        Conjoint\tEvelyn Ntoko Mase (1944-1957)\n",
    "        Winnie Madikizela (1957-1996)\n",
    "        Graça Simbine (1998-2013)\n",
    "        Diplômé de\tUniversité de Fort Hare\n",
    "        Université d'Afrique du Sud\n",
    "        Université du Witwatersrand\n",
    "        Profession\tAvocat\n",
    "        Religion\tMéthodisme\n",
    "    '''"
   ]
  },
  {
   "cell_type": "code",
   "execution_count": 417,
   "id": "0dd8d0b7-bd0e-4898-95ac-0798878a8b06",
   "metadata": {},
   "outputs": [
    {
     "data": {
      "text/plain": [
       "[]"
      ]
     },
     "execution_count": 417,
     "metadata": {},
     "output_type": "execute_result"
    }
   ],
   "source": [
    "re.findall('Nom de naissance\t(.*)(\\d)', nelson_mandela)"
   ]
  },
  {
   "cell_type": "code",
   "execution_count": 452,
   "id": "56d38849-32a3-4005-b851-4048ec10bf6d",
   "metadata": {},
   "outputs": [
    {
     "data": {
      "text/plain": [
       "'5 décembre 2013 (à 95 ans)'"
      ]
     },
     "execution_count": 452,
     "metadata": {},
     "output_type": "execute_result"
    }
   ],
   "source": [
    "re.findall('Date de décès\t(.*)', nelson_mandela)[0]"
   ]
  },
  {
   "cell_type": "code",
   "execution_count": null,
   "id": "4c4e7b16-6c36-4fe7-b1aa-122ab5bf8ad1",
   "metadata": {},
   "outputs": [],
   "source": []
  }
 ],
 "metadata": {
  "kernelspec": {
   "display_name": "Python 3",
   "language": "python",
   "name": "python3"
  },
  "language_info": {
   "codemirror_mode": {
    "name": "ipython",
    "version": 3
   },
   "file_extension": ".py",
   "mimetype": "text/x-python",
   "name": "python",
   "nbconvert_exporter": "python",
   "pygments_lexer": "ipython3",
   "version": "3.8.5"
  }
 },
 "nbformat": 4,
 "nbformat_minor": 5
}
